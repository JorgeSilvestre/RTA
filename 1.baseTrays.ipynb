{
 "cells": [
  {
   "cell_type": "code",
   "execution_count": null,
   "id": "a15353b2",
   "metadata": {},
   "outputs": [],
   "source": [
    "import tensorflow as tf\n",
    "import pandas as pd\n",
    "import datetime\n",
    "import matplotlib.pyplot as plt\n",
    "import plotly.express as px\n",
    "import numpy as np\n",
    "\n",
    "import sys\n",
    "sys.path.append('./rtaUtils')\n",
    "import wandb, os\n",
    "from wandb.keras import WandbCallback\n",
    "os.environ[\"WANDB_SILENT\"] = \"true\"\n",
    "\n",
    "from rtaUtils import paths, experiment, data_loading, data_preparation\n",
    "\n",
    "# Disable GPU\n",
    "tf.config.set_visible_devices([], 'GPU')\n",
    "visible_devices = tf.config.get_visible_devices()\n",
    "print(visible_devices)\n",
    "for device in visible_devices:\n",
    "    assert device.device_type != 'GPU'"
   ]
  },
  {
   "cell_type": "code",
   "execution_count": null,
   "id": "6f3c2934-e1ec-4ad0-a453-3fc7efa071b6",
   "metadata": {},
   "outputs": [],
   "source": [
    "### Experiment setup ##########################################################\n",
    "model_type   = 'LSTMtray'\n",
    "\n",
    "# Features\n",
    "numeric_feat   = ['latitude', 'longitude', 'altitude'] # 'vspeed', 'speed', 'track', 'hav_distance'\n",
    "categoric_feat = [] #'operator'      \n",
    "objective      = ['latitude', 'longitude', 'altitude']\n",
    "\n",
    "# Data parameters\n",
    "months       = '*' # 20220[12]\n",
    "airport      = '*'\n",
    "sampling     = 15\n",
    "from_parquet = True # Load from parquet files\n",
    "\n",
    "# Model configuration\n",
    "lookback     = 32\n",
    "lookforward  = 5\n",
    "shift        = 0\n",
    "\n",
    "n_units      = 5\n",
    "act_function = 'tanh'\n",
    "batch_size   = 128\n",
    "\n",
    "epochs       = 10"
   ]
  },
  {
   "cell_type": "code",
   "execution_count": null,
   "id": "57366f53",
   "metadata": {},
   "outputs": [],
   "source": [
    "# Auxiliar parameters\n",
    "glob_text    = f'{months}-{airport}'\n",
    "model_config = dict(\n",
    "    n_units=n_units,\n",
    "    act_function=act_function,\n",
    "    batch_size=batch_size,\n",
    ")\n",
    "\n",
    "feat_dict = dict(\n",
    "    numeric=numeric_feat,\n",
    "    categoric=categoric_feat,\n",
    "    objective=objective\n",
    ")"
   ]
  },
  {
   "cell_type": "raw",
   "id": "e4082549",
   "metadata": {},
   "source": [
    "# Configuración para Weights and Biases\n",
    "dt = datetime.datetime.now().strftime('%m%d_%H%M')\n",
    "\n",
    "wandb_config = {\n",
    "    'batch_size' : batch_size,\n",
    "    'lookback' : lookback,\n",
    "    'n_units' : n_units,\n",
    "    'sampling' : sampling,\n",
    "    'model_type' : model_type\n",
    "}\n",
    "wandb.init(project='RTAs', config=wandb_config,\n",
    "           name=f'{model_type}_s{sampling}_lb{lookback}_u{n_units}_{dt}'           \n",
    "           # resume='must', id=''\n",
    "          ) \n",
    "wandCallback = WandbCallback(save_model=False)"
   ]
  },
  {
   "cell_type": "markdown",
   "id": "eea4f422",
   "metadata": {},
   "source": [
    "## Training process"
   ]
  },
  {
   "cell_type": "code",
   "execution_count": null,
   "id": "b9107369",
   "metadata": {},
   "outputs": [],
   "source": [
    "# Instanciación de Experiment\n",
    "experimento = experiment.ExperimentTrajectory(\n",
    "    lookback=lookback,\n",
    "    sampling=sampling,\n",
    "    model_config=model_config,\n",
    "    months=months, \n",
    "    airport=airport,\n",
    "    features=feat_dict,\n",
    "    lookforward=lookforward,\n",
    "    shift=shift,\n",
    ")\n",
    "# Si ya se ha entrenado antes, load_model() carga el último modelo\n",
    "# experimento.load_model()\n",
    "experimento.model.summary()"
   ]
  },
  {
   "cell_type": "code",
   "execution_count": null,
   "id": "56aef687",
   "metadata": {},
   "outputs": [],
   "source": [
    "# Entrenamiento\n",
    "history = experimento.train(epochs=epochs, from_parquet=from_parquet, add_callbacks=[]) \n",
    "# add_callbacks = [wandCallback]"
   ]
  },
  {
   "cell_type": "code",
   "execution_count": null,
   "id": "73bc8c9f",
   "metadata": {},
   "outputs": [],
   "source": [
    "progress = pd.read_csv(experimento.model_path_log)\n",
    "skip = 0\n",
    "\n",
    "plt.plot([str(x) for x in range(1+skip,progress.shape[0]+1)], progress['loss'].iloc[skip:], label='loss')\n",
    "plt.plot([str(x) for x in range(1+skip,progress.shape[0]+1)], progress['val_loss'].iloc[skip:], label='validation loss')\n",
    "plt.title(f'{model_type}.u{n_units}lb{lookback}s{sampling}')\n",
    "plt.xlabel('Epochs')\n",
    "plt.ylabel('MAE')\n",
    "if progress.shape[0]>10:\n",
    "    plt.xticks([str(x) for x in range(1+skip,progress.shape[0],progress.shape[0]//5)])\n",
    "plt.legend()\n",
    "plt.tight_layout()\n",
    "plt.show()"
   ]
  },
  {
   "cell_type": "markdown",
   "id": "708e5b22",
   "metadata": {},
   "source": [
    "## Evaluation"
   ]
  },
  {
   "cell_type": "code",
   "execution_count": null,
   "id": "c551bae2",
   "metadata": {},
   "outputs": [],
   "source": [
    "# Cargamos el mejor modelo\n",
    "experimento.load_model('best')"
   ]
  },
  {
   "cell_type": "code",
   "execution_count": null,
   "id": "df2f8893",
   "metadata": {},
   "outputs": [],
   "source": [
    "# experimento.evaluate() evalúa el modelo sobre los conjuntos de validación y test\n",
    "# Para deshabilitar la impresión por pantalla, cambiar a print_err=False \n",
    "experimento.evaluate(from_parquet=from_parquet, print_err=True, original_scale = True)"
   ]
  },
  {
   "cell_type": "raw",
   "id": "8a4182b6-b5bf-4f3a-a5dd-7d6508c66845",
   "metadata": {},
   "source": [
    "# Evaluación del modelo a cierto tiempo del aeropuerto\n",
    "experimento.evaluate_at_times()"
   ]
  },
  {
   "cell_type": "raw",
   "id": "21ccbd3d-dfb8-4bc2-9faa-2ab4795a21d0",
   "metadata": {},
   "source": [
    "# Evaluación de cada aeropuerto de origen por separado\n",
    "experimento.evaluate_airports()"
   ]
  },
  {
   "cell_type": "code",
   "execution_count": null,
   "id": "917778f6",
   "metadata": {},
   "outputs": [],
   "source": [
    "# experimento.get_evaluation_results() extrae un dataframe con los resultados calculados \n",
    "experimento.get_evaluation_results('long')"
   ]
  },
  {
   "cell_type": "markdown",
   "id": "8d85f199",
   "metadata": {},
   "source": [
    "## Report generation"
   ]
  },
  {
   "cell_type": "code",
   "execution_count": null,
   "id": "e7b8f1bd",
   "metadata": {},
   "outputs": [],
   "source": [
    "# Exportar a CSV\n",
    "experimento.get_evaluation_results('wide')\\\n",
    "           .to_csv(f'./results/{model_type}_s{sampling}_lb{lookback}_lf{lookforward}_u{n_units}.csv', \n",
    "                 header=True,index=False, encoding='utf8')"
   ]
  },
  {
   "cell_type": "markdown",
   "id": "e1f7bfbb",
   "metadata": {},
   "source": [
    "## Visualization"
   ]
  },
  {
   "cell_type": "code",
   "execution_count": null,
   "id": "a591e816",
   "metadata": {},
   "outputs": [],
   "source": [
    "data = data_loading.load_final_data('202201','test',sampling=15).sort_values(['fpId','timestamp'])\n",
    "trajectories = (data.groupby(['fpId','aerodromeOfDeparture']).count().vectorId.reset_index()\n",
    "                    .sort_values(['aerodromeOfDeparture', 'vectorId']))\n",
    "trajectories[trajectories.aerodromeOfDeparture == 'LEBL'].head(10)"
   ]
  },
  {
   "cell_type": "code",
   "execution_count": null,
   "id": "f32d4c54",
   "metadata": {},
   "outputs": [],
   "source": [
    "# Evaluamos una o más trayectorias\n",
    "fpId_trajectory = ['AT05788200',] #'AT05486226'\n",
    "data = data[data.fpId.isin(fpId_trajectory)]"
   ]
  },
  {
   "cell_type": "code",
   "execution_count": null,
   "id": "46ab6a70",
   "metadata": {},
   "outputs": [],
   "source": [
    "# Preparación de las ventanas de las trayectorias\n",
    "windows = data_preparation.get_windows(data, lookback, experimento.encoders, experimento.scaler, features = feat_dict)\n",
    "windows = experimento._format_data(windows)\n",
    "\n",
    "predictions = experimento.model.predict(windows.batch(batch_size))"
   ]
  },
  {
   "cell_type": "code",
   "execution_count": null,
   "id": "75debd04",
   "metadata": {},
   "outputs": [],
   "source": [
    "df_viz = data[['latitude','longitude','altitude']].copy()\n",
    "# Desescalamos los datos\n",
    "pred_unsc = experimento.scaler.inverse_transform(\n",
    "    np.concatenate([np.zeros((predictions.shape[0],len(numeric_feat))),\n",
    "                    predictions.reshape((predictions.shape[0],len(objective)))],axis=1)\n",
    "    )[:,-len(objective):]\n",
    "# Unimos las predicciones con los valores reales para representarlas en el mapa\n",
    "df_viz = pd.concat([df_viz, pd.DataFrame(pred_unsc, columns=df_viz.columns)], axis=0)\n",
    "df_viz['real'] = 'real'\n",
    "df_viz.iloc[-len(predictions):,-1] = 'predicho'\n",
    "\n",
    "# Asignamos a cada predicción el mismo valor en la columna \"index\" que el del\n",
    "# último vector de la ventana que la originó (para alinearlos en los perfiles\n",
    "# de altitud, longitud y latitud)\n",
    "# Ojo: si la trayectoria está \"a trozos\", casca\n",
    "df_viz = df_viz.reset_index()\n",
    "df_viz.iloc[-pred_unsc.shape[0]:,0] = df_viz.iloc[lookback-1:-pred_unsc.shape[0],0].values\n",
    "\n",
    "df_viz"
   ]
  },
  {
   "cell_type": "code",
   "execution_count": null,
   "id": "945685c3",
   "metadata": {},
   "outputs": [],
   "source": [
    "px.scatter_mapbox(df_viz, 'latitude', 'longitude', zoom=6.5,width=900, height=500,\n",
    "                  mapbox_style=\"open-street-map\", opacity = 1,\n",
    "                  color ='real'\n",
    "                 )"
   ]
  },
  {
   "cell_type": "code",
   "execution_count": null,
   "id": "68cb6815",
   "metadata": {},
   "outputs": [],
   "source": [
    "px.scatter(df_viz, x = 'index', y='altitude', width=600, height=400,\n",
    "                  opacity = 1, color ='real', title='Altitud')"
   ]
  },
  {
   "cell_type": "code",
   "execution_count": null,
   "id": "4a8aa40c",
   "metadata": {},
   "outputs": [],
   "source": [
    "px.scatter(df_viz, x = 'index', y='longitude', width=600, height=400,\n",
    "                  opacity = 1, color ='real', title='Longitud')"
   ]
  },
  {
   "cell_type": "code",
   "execution_count": null,
   "id": "9f2182cc",
   "metadata": {},
   "outputs": [],
   "source": [
    "px.scatter(df_viz, x = 'index', y='latitude', width=600, height=400,\n",
    "                  opacity = 1, color ='real', title='Latitud')"
   ]
  }
 ],
 "metadata": {
  "kernelspec": {
   "display_name": "tf",
   "language": "python",
   "name": "tf"
  },
  "language_info": {
   "codemirror_mode": {
    "name": "ipython",
    "version": 3
   },
   "file_extension": ".py",
   "mimetype": "text/x-python",
   "name": "python",
   "nbconvert_exporter": "python",
   "pygments_lexer": "ipython3",
   "version": "3.9.16"
  }
 },
 "nbformat": 4,
 "nbformat_minor": 5
}
