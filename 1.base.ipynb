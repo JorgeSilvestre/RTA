{
 "cells": [
  {
   "cell_type": "code",
   "execution_count": null,
   "id": "bab8f286",
   "metadata": {},
   "outputs": [],
   "source": [
    "import tensorflow as tf\n",
    "import pandas as pd\n",
    "import datetime\n",
    "import matplotlib.pyplot as plt\n",
    "import plotly.express as px\n",
    "import numpy as np\n",
    "\n",
    "import sys\n",
    "sys.path.append('./rtaUtils')\n",
    "\n",
    "import wandb, os\n",
    "from wandb.keras import WandbCallback\n",
    "os.environ[\"WANDB_SILENT\"] = \"true\"\n",
    "\n",
    "from rtaUtils import paths, experiment, data_loading\n",
    "\n",
    "# Disable GPU\n",
    "tf.config.set_visible_devices([], 'GPU')\n",
    "visible_devices = tf.config.get_visible_devices()\n",
    "print(visible_devices)\n",
    "for device in visible_devices:\n",
    "    assert device.device_type != 'GPU'"
   ]
  },
  {
   "cell_type": "code",
   "execution_count": null,
   "id": "fda6c388-6f84-4f9c-ab14-b0ce630d7831",
   "metadata": {},
   "outputs": [],
   "source": [
    "### Experiment setup ##########################################################\n",
    "model_type   = 'LSTM'\n",
    "\n",
    "# Features\n",
    "numeric_feat = [\n",
    "    'latitude', 'longitude', 'altitude', 'delay', 'vspeed', 'speed', \n",
    "    'day_of_week', 'track', 'wind_dir_degrees', 'wind_speed_kt', \n",
    "    'visibility_statute_mi', 'max_temp', 'min_temp', 'hav_distance',\n",
    "    'cloud_base_ft_agl'\n",
    "]\n",
    "categoric_feat = [\n",
    "    'time_of_day', 'operator', 'aerodromeOfDeparture', 'aircraftType', 'cloud_type', 'sky_cover'\n",
    "]\n",
    "objective = ['RTA']\n",
    "\n",
    "# Data parameters\n",
    "months       = '*' # 20220[123456789]\n",
    "airport      = '*'\n",
    "sampling     = 60\n",
    "from_parquet = True # Load from parquet files\n",
    "\n",
    "# Model configuration\n",
    "lookback     = 64\n",
    "lookforward  = 1\n",
    "shift        = -1\n",
    "\n",
    "n_units      = 20\n",
    "act_function = 'tanh'\n",
    "batch_size   = 128\n",
    "\n",
    "epochs       = 50"
   ]
  },
  {
   "cell_type": "code",
   "execution_count": null,
   "id": "a15353b2",
   "metadata": {},
   "outputs": [],
   "source": [
    "# Auxiliar parameters\n",
    "glob_text    = f'{months}-{airport}'\n",
    "model_config = dict(\n",
    "    n_units=n_units,\n",
    "    act_function=act_function,\n",
    "    batch_size=batch_size,\n",
    ")\n",
    "ts_features = [\n",
    "    'latitude', 'longitude', 'altitude', 'vspeed', 'speed', 'track', 'hav_distance'\n",
    "]\n",
    "nts_features = [\n",
    "    'departureDelay', 'day_of_week', 'wind_dir_degrees','wind_speed_kt', \n",
    "    'visibility_statute_mi', 'max_temp', 'min_temp', 'time_of_day', 'operator', \n",
    "    'aerodromeOfDeparture', 'sky_status', 'clouds'\n",
    "]\n",
    "feat_dict = dict(\n",
    "    numeric=numeric_feat,\n",
    "    categoric=categoric_feat,\n",
    "    objective=objective,\n",
    "    ts=ts_features,\n",
    "    nts=nts_features\n",
    ")"
   ]
  },
  {
   "cell_type": "raw",
   "id": "035bc168",
   "metadata": {},
   "source": [
    "dt = datetime.datetime.now().strftime('%m%d_%H%M')\n",
    "\n",
    "wandb_config = {\n",
    "    'batch_size' : batch_size,\n",
    "    'lookback' : lookback,\n",
    "    'n_units' : n_units,\n",
    "    'sampling' : sampling,\n",
    "    'model_type' : model_type\n",
    "}\n",
    "wandb.init(project='RTAs', config=wandb_config,\n",
    "           name=f'{model_type}_s{sampling}_lb{lookback}_u{n_units}_{dt}'           \n",
    "           # resume='must', id=''\n",
    "          ) \n",
    "wandCallback = WandbCallback(save_model=False)"
   ]
  },
  {
   "cell_type": "markdown",
   "id": "eea4f422",
   "metadata": {},
   "source": [
    "## Training process"
   ]
  },
  {
   "cell_type": "code",
   "execution_count": null,
   "id": "b9107369",
   "metadata": {},
   "outputs": [],
   "source": [
    "experimento = experiment.ExperimentVanilla(\n",
    "    lookback=lookback,\n",
    "    sampling=sampling,\n",
    "    model_config=model_config,\n",
    "    months=months, \n",
    "    airport=airport,\n",
    "    features=feat_dict,\n",
    "    lookforward=lookforward,\n",
    "    shift=shift,\n",
    ")\n",
    "# Si ya se ha entrenado antes, load_model() carga el último modelo\n",
    "# experimento.load_model()\n",
    "experimento.model.summary()"
   ]
  },
  {
   "cell_type": "code",
   "execution_count": null,
   "id": "bfdd2a65-f442-465c-be05-bc5726099a3c",
   "metadata": {},
   "outputs": [],
   "source": [
    "# Entrenamiento\n",
    "history = experimento.train(epochs=epochs, from_parquet=from_parquet, add_callbacks = []) \n",
    "# add_callbacks = [wandCallback]"
   ]
  },
  {
   "cell_type": "code",
   "execution_count": null,
   "id": "d8885721-2c6f-4430-a55d-9ca249b44bd7",
   "metadata": {},
   "outputs": [],
   "source": [
    "progress = pd.read_csv(experimento.model_path_log)\n",
    "skip = 0\n",
    "\n",
    "plt.plot([str(x) for x in range(1+skip,progress.shape[0]+1)], progress['loss'].iloc[skip:], label='loss')\n",
    "plt.plot([str(x) for x in range(1+skip,progress.shape[0]+1)], progress['val_loss'].iloc[skip:], label='validation loss')\n",
    "plt.title(f'{model_type}.u{n_units}lb{lookback}s{sampling}')\n",
    "plt.xlabel('Epochs')\n",
    "plt.ylabel('MAE')\n",
    "if progress.shape[0]>10:\n",
    "    plt.xticks([str(x) for x in range(1+skip,progress.shape[0],progress.shape[0]//5)])\n",
    "plt.legend()\n",
    "plt.tight_layout()\n",
    "plt.show()"
   ]
  },
  {
   "cell_type": "markdown",
   "id": "708e5b22",
   "metadata": {},
   "source": [
    "## Evaluation"
   ]
  },
  {
   "cell_type": "code",
   "execution_count": null,
   "id": "c551bae2",
   "metadata": {},
   "outputs": [],
   "source": [
    "experimento.load_model('best')"
   ]
  },
  {
   "cell_type": "code",
   "execution_count": null,
   "id": "0b2d252d",
   "metadata": {},
   "outputs": [],
   "source": [
    "experimento.evaluate('val', from_parquet=from_parquet, print_err=True, original_scale = True)\n",
    "experimento.evaluate('test', from_parquet=from_parquet, print_err=True, original_scale = True)"
   ]
  },
  {
   "cell_type": "code",
   "execution_count": null,
   "id": "698e417c",
   "metadata": {},
   "outputs": [],
   "source": [
    "experimento.evaluate_at_times('val')\n",
    "experimento.evaluate_at_times('test')"
   ]
  },
  {
   "cell_type": "code",
   "execution_count": null,
   "id": "a9675371",
   "metadata": {},
   "outputs": [],
   "source": [
    "experimento.evaluate_airports()"
   ]
  },
  {
   "cell_type": "code",
   "execution_count": null,
   "id": "dda0084f",
   "metadata": {},
   "outputs": [],
   "source": [
    "# experimento.get_evaluation_results() extrae un dataframe con los resultados calculados \n",
    "experimento.get_evaluation_results('long')"
   ]
  },
  {
   "cell_type": "raw",
   "id": "232cfd3e",
   "metadata": {},
   "source": [
    "# arbitrario\n",
    "feat = 'visibility_statute_mi'\n",
    "for idx, value in enumerate(sorted(test_data[feat].unique())):\n",
    "    data = test_data[test_data[feat] == value].sort_values(by=['fpId','timestamp']).copy()\n",
    "\n",
    "    if data.size < lookback:\n",
    "        continue\n",
    "    print(f'({idx+1}/{len(test_data[feat].unique())}) Evaluando {feat}={value}')\n",
    "    \n",
    "    ds = get_windows2(data,lookback,encoders,scaler,numeric_feat,categoric_feat,objective)\n",
    "    \n",
    "    metrics_values = evaluate_model(ds, print_err = True)"
   ]
  },
  {
   "cell_type": "markdown",
   "id": "8d85f199",
   "metadata": {},
   "source": [
    "## Report generation"
   ]
  },
  {
   "cell_type": "code",
   "execution_count": null,
   "id": "6c1e898f",
   "metadata": {},
   "outputs": [],
   "source": [
    "# Exportar a CSV\n",
    "experimento.get_evaluation_results('wide')\\\n",
    "           .to_csv(f'./results/{model_type}_s{sampling}_lb{lookback}_u{n_units}.csv', \n",
    "                 header=True,index=False, encoding='utf8')"
   ]
  },
  {
   "cell_type": "markdown",
   "id": "912be745",
   "metadata": {},
   "source": [
    "## Result visualization"
   ]
  },
  {
   "cell_type": "code",
   "execution_count": null,
   "id": "6d5f12bb",
   "metadata": {},
   "outputs": [],
   "source": [
    "import plotly.express as px"
   ]
  },
  {
   "cell_type": "code",
   "execution_count": null,
   "id": "5fb5ce36",
   "metadata": {},
   "outputs": [],
   "source": [
    "report_df = pd.read_csv(f'./results/{model_type}_s{sampling}_lb{lookback}_u{n_units}.csv', \n",
    "                        header=0, encoding='utf8')"
   ]
  },
  {
   "cell_type": "code",
   "execution_count": null,
   "id": "ed359410",
   "metadata": {},
   "outputs": [],
   "source": [
    "vis = pd.merge(\n",
    "    report_df[['MAE all','RMSE all','MAPE all', 'StDev all','Mean all','dataset']],\n",
    "    pd.read_csv('./data/airports.csv', sep = ','),\n",
    "    left_on='dataset', right_on='id'\n",
    ")"
   ]
  },
  {
   "cell_type": "code",
   "execution_count": null,
   "id": "80e4abfc",
   "metadata": {},
   "outputs": [],
   "source": [
    "td = data_loading.load_final_data(months, 'test')[['aerodromeOfDeparture', 'fpId']].drop_duplicates()\\\n",
    "              .groupby('aerodromeOfDeparture').count()\n",
    "\n",
    "vis = pd.merge(vis, td, left_on='dataset', right_on='aerodromeOfDeparture')"
   ]
  },
  {
   "cell_type": "raw",
   "id": "8d3aa4f4",
   "metadata": {},
   "source": [
    "td = test_data[['aerodromeOfDeparture', 'fpId']].drop_duplicates()\\\n",
    "              .groupby('aerodromeOfDeparture').count()\n",
    "\n",
    "vis = pd.merge(vis, td, left_on='airport', right_on='aerodromeOfDeparture')"
   ]
  },
  {
   "cell_type": "code",
   "execution_count": null,
   "id": "b40f98c6",
   "metadata": {},
   "outputs": [],
   "source": [
    "px.scatter_mapbox(vis, 'lat', 'lon', zoom=3.6,width=950, height=750,\n",
    "                  mapbox_style=\"open-street-map\", opacity = 1,\n",
    "                  color = 'MAE all', size='fpId',\n",
    "#                   range_color=(50,300),\n",
    "                  # color_continuous_scale='RdYlGn_r', #'bluered' 'Portland'\n",
    "                  # color_continuous_midpoint=150,\n",
    "                  hover_data = {'MAE all':':.3f',\n",
    "                                'RMSE all':':.3f'},\n",
    "                  hover_name='dataset'\n",
    "                 )"
   ]
  },
  {
   "cell_type": "code",
   "execution_count": null,
   "id": "360a6427",
   "metadata": {},
   "outputs": [],
   "source": [
    "px.scatter_mapbox(vis, 'lat', 'lon', zoom=3.6,width=950, height=750,\n",
    "                  mapbox_style=\"open-street-map\", opacity = 1,\n",
    "                  color = 'MAPE all', size='fpId',\n",
    "                  # range_color=(0,0.2),\n",
    "                  # color_continuous_scale='RdYlGn_r', #'bluered' 'Portland'\n",
    "                  # color_continuous_midpoint=150,\n",
    "                  hover_data = {'MAE all':':.3f',\n",
    "                                'RMSE all':':.3f'},\n",
    "                  hover_name='dataset'\n",
    "                 )"
   ]
  },
  {
   "cell_type": "code",
   "execution_count": null,
   "id": "6e938622",
   "metadata": {},
   "outputs": [],
   "source": []
  }
 ],
 "metadata": {
  "kernelspec": {
   "display_name": "tf",
   "language": "python",
   "name": "tf"
  },
  "language_info": {
   "codemirror_mode": {
    "name": "ipython",
    "version": 3
   },
   "file_extension": ".py",
   "mimetype": "text/x-python",
   "name": "python",
   "nbconvert_exporter": "python",
   "pygments_lexer": "ipython3",
   "version": "3.9.16"
  }
 },
 "nbformat": 4,
 "nbformat_minor": 5
}
