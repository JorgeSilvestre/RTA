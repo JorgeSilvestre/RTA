{
 "cells": [
  {
   "cell_type": "code",
   "execution_count": null,
   "id": "6c63d7c8",
   "metadata": {},
   "outputs": [],
   "source": [
    "import numpy as np\n",
    "import pandas as pd\n",
    "import datetime\n",
    "from pathlib import Path \n",
    "import concurrent\n",
    "from tqdm.contrib.concurrent import process_map\n",
    "import plotly.express as px\n",
    "\n",
    "import sys\n",
    "sys.path.append('./rtaUtils')\n",
    "\n",
    "from rtaUtils.paths import *\n",
    "from rtaUtils import sort_vectors, data_cleaning, common, data_loading"
   ]
  },
  {
   "cell_type": "markdown",
   "id": "6941418b",
   "metadata": {},
   "source": [
    "# Sort state vectors"
   ]
  },
  {
   "cell_type": "code",
   "execution_count": null,
   "id": "b13b8b4f",
   "metadata": {},
   "outputs": [],
   "source": [
    "if __name__ == '__main__':\n",
    "    dates = common.get_dates_between(date_start = '2022-01-01', \n",
    "                                     date_end   = '2022-09-30')\n",
    "    \n",
    "    for date in dates:\n",
    "        try:\n",
    "            flights = data_loading.load_raw_data_sort(date)\n",
    "        except IndexError:\n",
    "            continue\n",
    "        indices = data_loading.calculate_indexes(flights)\n",
    "        \n",
    "        us_data = []\n",
    "        for i, (fpId, start_index, end_index) in indices.iterrows():\n",
    "            us_data.append(flights.loc[start_index:end_index].copy())\n",
    "\n",
    "        time_start = datetime.datetime.now().strftime(\"%H:%M:%S\")\n",
    "        print(f'{time_start} Processing: {date.strftime(\"%Y-%m-%d\")} ({len(us_data)} tray)', end='\\r')\n",
    "\n",
    "        with concurrent.futures.ProcessPoolExecutor(max_workers=8) as executor:\n",
    "            result = list(executor.map(sort_vectors.fix_trajectory, us_data))\n",
    "        \n",
    "        if len(result) > 0:\n",
    "            output = pd.concat(result).sort_values(['ordenFinal'])\n",
    "            output.to_parquet(sorted_data_path / f'{date.strftime(\"%Y%m%d\")}.parquet')\n",
    "            \n",
    "        print(f'{time_start} Processed: {date.strftime(\"%Y-%m-%d\")} ({len(us_data)} tray)   ')"
   ]
  },
  {
   "cell_type": "markdown",
   "id": "b9165bce",
   "metadata": {},
   "source": [
    "# Merge and fix data"
   ]
  },
  {
   "cell_type": "raw",
   "id": "00585c99",
   "metadata": {},
   "source": [
    "output_data = data_loading.load_sorted_data('202209')"
   ]
  },
  {
   "cell_type": "raw",
   "id": "ee044105",
   "metadata": {},
   "source": [
    "output_data.isna().sum()"
   ]
  },
  {
   "cell_type": "raw",
   "id": "8a7937ca",
   "metadata": {},
   "source": [
    "pd.options.display.max_rows = None\n",
    "pd.options.display.max_columns = None\n",
    "output_data[~output_data.vert_vis_ft.isna()].vert_vis_ft.unique()"
   ]
  },
  {
   "cell_type": "code",
   "execution_count": null,
   "id": "42e9cd1e",
   "metadata": {},
   "outputs": [],
   "source": [
    "months = [f'2022{str(x).rjust(2,\"0\")}' for x in range(1,10)]\n",
    "\n",
    "for month in months:\n",
    "    output_data = data_loading.load_sorted_data(month)\n",
    "\n",
    "    # Fix RTA values with corrected timestams\n",
    "    output_data['RTA'] = output_data.touchdown - output_data.timestamp\n",
    "    print(f'{month}: {output_data.shape[0]:,} (RTA negativo: {(output_data.RTA<=0).sum()})')\n",
    "    \n",
    "    # Remove RTA<0 and ground=True vectors (irrelevant for estimation)\n",
    "    output_data = output_data[output_data.RTA>0]\n",
    "    output_data = output_data[~output_data.ground]\n",
    "    \n",
    "    output_data = (output_data.pipe(data_cleaning.fill_missing_data)\n",
    "                              .pipe(data_cleaning.remove_incorrect)\n",
    "                              .pipe(data_cleaning.modify_data_types)\n",
    "                              .pipe(data_cleaning.include_additional_columns)\n",
    "                              .pipe(data_cleaning.drop_columns)\n",
    "                              .pipe(data_cleaning.drop_duplicates_sort))\n",
    "    \n",
    "    # print(output_data.columns)\n",
    "    output_data.to_parquet(sorted_data_path / f'{month}.parquet')\n",
    "del output_data"
   ]
  },
  {
   "cell_type": "markdown",
   "id": "08249526",
   "metadata": {},
   "source": [
    "# Remove outliers "
   ]
  },
  {
   "cell_type": "code",
   "execution_count": null,
   "id": "404aa197",
   "metadata": {},
   "outputs": [],
   "source": [
    "if __name__ == '__main__':\n",
    "    months = [f'2022{str(x).rjust(2,\"0\")}' for x in range(1,10)]\n",
    "    \n",
    "    for month in months:\n",
    "        data = pd.read_parquet(sorted_data_path / f'{month}.parquet')\n",
    "        indices = data_loading.calculate_indexes(data)\n",
    "\n",
    "        flights = [data.iloc[start:end+1].copy() for idx, (fpId, start, end) in indices.iterrows()]\n",
    "\n",
    "        with concurrent.futures.ProcessPoolExecutor(max_workers=8) as executor:\n",
    "            # result = list(executor.map(data_cleaning.detect_outliers, flights))\n",
    "            result = process_map(data_cleaning.detect_outliers, flights, chunksize=1, desc=month)\n",
    "        flights = pd.concat(result)\n",
    "        print(f'{month}: {flights.is_outlier.sum():>6}/{flights.shape[0]:>6}')\n",
    "        \n",
    "        flights = flights[~flights.is_outlier]\n",
    "        \n",
    "        flights.to_parquet(clean_data_path / f'{month}.parquet')"
   ]
  },
  {
   "cell_type": "code",
   "execution_count": null,
   "id": "7c393ac8",
   "metadata": {},
   "outputs": [],
   "source": []
  },
  {
   "cell_type": "code",
   "execution_count": null,
   "id": "bf5d4b1c",
   "metadata": {},
   "outputs": [],
   "source": []
  },
  {
   "cell_type": "code",
   "execution_count": null,
   "id": "aa1cde1c",
   "metadata": {},
   "outputs": [],
   "source": []
  },
  {
   "cell_type": "raw",
   "id": "34af2169",
   "metadata": {},
   "source": [
    "flights[(flights.fpId == 'AT06238131')][['timestamp','fixed_timestamp','reordenado']][250:300]\n",
    "# &(flights.timestamp != flights.fixed_timestamp)"
   ]
  },
  {
   "cell_type": "code",
   "execution_count": null,
   "id": "e41652ab",
   "metadata": {},
   "outputs": [],
   "source": [
    "flights = pd.read_parquet(clean_data_path / f'202202.parquet')"
   ]
  },
  {
   "cell_type": "code",
   "execution_count": null,
   "id": "8e36ebf1",
   "metadata": {},
   "outputs": [],
   "source": [
    "flights.groupby(['fpId','flightDate']).agg({'is_outlier':sum}).sort_values('is_outlier', ascending=False).head(20)"
   ]
  },
  {
   "cell_type": "code",
   "execution_count": null,
   "id": "83f4c4e7",
   "metadata": {},
   "outputs": [],
   "source": [
    "px.scatter_mapbox(\n",
    "        flights[flights.fpId == 'AT06057635'], \n",
    "        lat='latitude', lon='longitude',\n",
    "        height=725, zoom=4, \n",
    "        mapbox_style='open-street-map',\n",
    "        hover_data=['ordenInicial','ordenFinal','track','altitude','timestamp'], \n",
    "        color='is_outlier'\n",
    "     )"
   ]
  },
  {
   "cell_type": "code",
   "execution_count": null,
   "id": "c1d9aece",
   "metadata": {},
   "outputs": [],
   "source": []
  },
  {
   "cell_type": "code",
   "execution_count": null,
   "id": "36be6136",
   "metadata": {},
   "outputs": [],
   "source": [
    "from importlib import reload\n",
    "sort_vectors = reload(sort_vectors)\n",
    "flights2 = pd.read_parquet(sorted_data_path / f'20220207.parquet')"
   ]
  },
  {
   "cell_type": "code",
   "execution_count": null,
   "id": "3bcc2312",
   "metadata": {},
   "outputs": [],
   "source": [
    "px.scatter_mapbox(\n",
    "#         flights2[flights2.fpId == 'AT06300603'],\n",
    "        pepe,\n",
    "        lat='latitude', lon='longitude',\n",
    "        height=725, zoom=4, \n",
    "        mapbox_style='open-street-map',\n",
    "        hover_data=['ordenInicial','ordenFinal','track','altitude','timestamp', 'flightDate'], \n",
    "        color='reordenado'\n",
    "     )"
   ]
  },
  {
   "cell_type": "code",
   "execution_count": null,
   "id": "6f704df8",
   "metadata": {},
   "outputs": [],
   "source": [
    "\n",
    "pepe = flights2[flights2.fpId == 'AT06072256'].copy()\n",
    "\n",
    "acc = [set(), set()]\n",
    "pepe['reordenado'] = pepe[['ordenFinal','ordenInicial']].astype(int).apply(sort_vectors.is_resorted, args=[acc, True], axis=1)"
   ]
  },
  {
   "cell_type": "code",
   "execution_count": null,
   "id": "482b1523",
   "metadata": {},
   "outputs": [],
   "source": []
  }
 ],
 "metadata": {
  "kernelspec": {
   "display_name": "tf",
   "language": "python",
   "name": "tf"
  },
  "language_info": {
   "codemirror_mode": {
    "name": "ipython",
    "version": 3
   },
   "file_extension": ".py",
   "mimetype": "text/x-python",
   "name": "python",
   "nbconvert_exporter": "python",
   "pygments_lexer": "ipython3",
   "version": "3.9.16"
  }
 },
 "nbformat": 4,
 "nbformat_minor": 5
}
